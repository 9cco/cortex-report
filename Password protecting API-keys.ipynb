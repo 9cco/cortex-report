{
 "cells": [
  {
   "cell_type": "markdown",
   "id": "b59ebfbd",
   "metadata": {},
   "source": [
    "# Running Encrypted Code"
   ]
  },
  {
   "cell_type": "code",
   "execution_count": 1,
   "id": "bcb2b706",
   "metadata": {},
   "outputs": [
    {
     "name": "stdout",
     "output_type": "stream",
     "text": [
      "5\n"
     ]
    }
   ],
   "source": [
    "program = \"a = 5\"\n",
    "exec(program)\n",
    "print(a)"
   ]
  },
  {
   "cell_type": "code",
   "execution_count": 2,
   "id": "8be51379",
   "metadata": {},
   "outputs": [
    {
     "name": "stdout",
     "output_type": "stream",
     "text": [
      "['In', 'Out', '_', '__', '___', '__builtin__', '__builtins__', '__doc__', '__loader__', '__name__', '__package__', '__spec__', '_dh', '_i', '_i1', '_i2', '_ih', '_ii', '_iii', '_oh', 'a', 'exit', 'get_ipython', 'program', 'quit']\n"
     ]
    }
   ],
   "source": [
    "exec('print(dir())')"
   ]
  },
  {
   "cell_type": "code",
   "execution_count": 18,
   "id": "8317face",
   "metadata": {},
   "outputs": [
    {
     "name": "stdout",
     "output_type": "stream",
     "text": [
      "['a', 'dir', 'print']\n"
     ]
    }
   ],
   "source": [
    "exec('print(dir())', {'__builtins__' : None}, {'a': a, 'print' : print, 'dir': dir})"
   ]
  },
  {
   "cell_type": "code",
   "execution_count": 22,
   "id": "61422146",
   "metadata": {},
   "outputs": [
    {
     "name": "stdout",
     "output_type": "stream",
     "text": [
      "0\n"
     ]
    }
   ],
   "source": [
    "b = 0\n",
    "exec('b = 1', {'__builtins__': __builtins__}, {'b': b})\n",
    "print(b)"
   ]
  },
  {
   "cell_type": "code",
   "execution_count": 26,
   "id": "4f8cc7de",
   "metadata": {},
   "outputs": [
    {
     "name": "stdout",
     "output_type": "stream",
     "text": [
      "1\n"
     ]
    }
   ],
   "source": [
    "b = 0\n",
    "exec('b = 1', globals())\n",
    "print(b)"
   ]
  },
  {
   "cell_type": "code",
   "execution_count": 35,
   "id": "9ae08057",
   "metadata": {},
   "outputs": [
    {
     "name": "stdout",
     "output_type": "stream",
     "text": [
      "0\n"
     ]
    }
   ],
   "source": [
    "b = 0\n",
    "exec('b = 1', {'__builtins__': __builtins__, '__builtin__' : __builtin__, 'In' : In, 'Out' : Out, 'b': b}, {'b': b})\n",
    "print(b)"
   ]
  },
  {
   "cell_type": "code",
   "execution_count": 40,
   "id": "dc491748",
   "metadata": {},
   "outputs": [
    {
     "name": "stdout",
     "output_type": "stream",
     "text": [
      "1\n",
      "None\n",
      "0\n"
     ]
    }
   ],
   "source": [
    "b = 0\n",
    "program=\"\"\"\n",
    "b = 1\n",
    "print(b)\n",
    "\"\"\"\n",
    "print(exec(program, {'b': b, 'print' : print}))\n",
    "print(b)"
   ]
  },
  {
   "cell_type": "code",
   "execution_count": 42,
   "id": "372d3156",
   "metadata": {},
   "outputs": [
    {
     "name": "stdout",
     "output_type": "stream",
     "text": [
      "{'print': <built-in function print>, '__builtins__': {'__name__': 'builtins', '__doc__': \"Built-in functions, exceptions, and other objects.\\n\\nNoteworthy: None is the `nil' object; Ellipsis represents `...' in slices.\", '__package__': '', '__loader__': <class '_frozen_importlib.BuiltinImporter'>, '__spec__': ModuleSpec(name='builtins', loader=<class '_frozen_importlib.BuiltinImporter'>, origin='built-in'), '__build_class__': <built-in function __build_class__>, '__import__': <built-in function __import__>, 'abs': <built-in function abs>, 'all': <built-in function all>, 'any': <built-in function any>, 'ascii': <built-in function ascii>, 'bin': <built-in function bin>, 'breakpoint': <built-in function breakpoint>, 'callable': <built-in function callable>, 'chr': <built-in function chr>, 'compile': <built-in function compile>, 'delattr': <built-in function delattr>, 'dir': <built-in function dir>, 'divmod': <built-in function divmod>, 'eval': <built-in function eval>, 'exec': <built-in function exec>, 'format': <built-in function format>, 'getattr': <built-in function getattr>, 'globals': <built-in function globals>, 'hasattr': <built-in function hasattr>, 'hash': <built-in function hash>, 'hex': <built-in function hex>, 'id': <built-in function id>, 'input': <bound method Kernel.raw_input of <ipykernel.ipkernel.IPythonKernel object at 0x000002A6DB6CFC40>>, 'isinstance': <built-in function isinstance>, 'issubclass': <built-in function issubclass>, 'iter': <built-in function iter>, 'aiter': <built-in function aiter>, 'len': <built-in function len>, 'locals': <built-in function locals>, 'max': <built-in function max>, 'min': <built-in function min>, 'next': <built-in function next>, 'anext': <built-in function anext>, 'oct': <built-in function oct>, 'ord': <built-in function ord>, 'pow': <built-in function pow>, 'print': <built-in function print>, 'repr': <built-in function repr>, 'round': <built-in function round>, 'setattr': <built-in function setattr>, 'sorted': <built-in function sorted>, 'sum': <built-in function sum>, 'vars': <built-in function vars>, 'None': None, 'Ellipsis': Ellipsis, 'NotImplemented': NotImplemented, 'False': False, 'True': True, 'bool': <class 'bool'>, 'memoryview': <class 'memoryview'>, 'bytearray': <class 'bytearray'>, 'bytes': <class 'bytes'>, 'classmethod': <class 'classmethod'>, 'complex': <class 'complex'>, 'dict': <class 'dict'>, 'enumerate': <class 'enumerate'>, 'filter': <class 'filter'>, 'float': <class 'float'>, 'frozenset': <class 'frozenset'>, 'property': <class 'property'>, 'int': <class 'int'>, 'list': <class 'list'>, 'map': <class 'map'>, 'object': <class 'object'>, 'range': <class 'range'>, 'reversed': <class 'reversed'>, 'set': <class 'set'>, 'slice': <class 'slice'>, 'staticmethod': <class 'staticmethod'>, 'str': <class 'str'>, 'super': <class 'super'>, 'tuple': <class 'tuple'>, 'type': <class 'type'>, 'zip': <class 'zip'>, '__debug__': True, 'BaseException': <class 'BaseException'>, 'Exception': <class 'Exception'>, 'TypeError': <class 'TypeError'>, 'StopAsyncIteration': <class 'StopAsyncIteration'>, 'StopIteration': <class 'StopIteration'>, 'GeneratorExit': <class 'GeneratorExit'>, 'SystemExit': <class 'SystemExit'>, 'KeyboardInterrupt': <class 'KeyboardInterrupt'>, 'ImportError': <class 'ImportError'>, 'ModuleNotFoundError': <class 'ModuleNotFoundError'>, 'OSError': <class 'OSError'>, 'EnvironmentError': <class 'OSError'>, 'IOError': <class 'OSError'>, 'WindowsError': <class 'OSError'>, 'EOFError': <class 'EOFError'>, 'RuntimeError': <class 'RuntimeError'>, 'RecursionError': <class 'RecursionError'>, 'NotImplementedError': <class 'NotImplementedError'>, 'NameError': <class 'NameError'>, 'UnboundLocalError': <class 'UnboundLocalError'>, 'AttributeError': <class 'AttributeError'>, 'SyntaxError': <class 'SyntaxError'>, 'IndentationError': <class 'IndentationError'>, 'TabError': <class 'TabError'>, 'LookupError': <class 'LookupError'>, 'IndexError': <class 'IndexError'>, 'KeyError': <class 'KeyError'>, 'ValueError': <class 'ValueError'>, 'UnicodeError': <class 'UnicodeError'>, 'UnicodeEncodeError': <class 'UnicodeEncodeError'>, 'UnicodeDecodeError': <class 'UnicodeDecodeError'>, 'UnicodeTranslateError': <class 'UnicodeTranslateError'>, 'AssertionError': <class 'AssertionError'>, 'ArithmeticError': <class 'ArithmeticError'>, 'FloatingPointError': <class 'FloatingPointError'>, 'OverflowError': <class 'OverflowError'>, 'ZeroDivisionError': <class 'ZeroDivisionError'>, 'SystemError': <class 'SystemError'>, 'ReferenceError': <class 'ReferenceError'>, 'MemoryError': <class 'MemoryError'>, 'BufferError': <class 'BufferError'>, 'Warning': <class 'Warning'>, 'UserWarning': <class 'UserWarning'>, 'EncodingWarning': <class 'EncodingWarning'>, 'DeprecationWarning': <class 'DeprecationWarning'>, 'PendingDeprecationWarning': <class 'PendingDeprecationWarning'>, 'SyntaxWarning': <class 'SyntaxWarning'>, 'RuntimeWarning': <class 'RuntimeWarning'>, 'FutureWarning': <class 'FutureWarning'>, 'ImportWarning': <class 'ImportWarning'>, 'UnicodeWarning': <class 'UnicodeWarning'>, 'BytesWarning': <class 'BytesWarning'>, 'ResourceWarning': <class 'ResourceWarning'>, 'ConnectionError': <class 'ConnectionError'>, 'BlockingIOError': <class 'BlockingIOError'>, 'BrokenPipeError': <class 'BrokenPipeError'>, 'ChildProcessError': <class 'ChildProcessError'>, 'ConnectionAbortedError': <class 'ConnectionAbortedError'>, 'ConnectionRefusedError': <class 'ConnectionRefusedError'>, 'ConnectionResetError': <class 'ConnectionResetError'>, 'FileExistsError': <class 'FileExistsError'>, 'FileNotFoundError': <class 'FileNotFoundError'>, 'IsADirectoryError': <class 'IsADirectoryError'>, 'NotADirectoryError': <class 'NotADirectoryError'>, 'InterruptedError': <class 'InterruptedError'>, 'PermissionError': <class 'PermissionError'>, 'ProcessLookupError': <class 'ProcessLookupError'>, 'TimeoutError': <class 'TimeoutError'>, 'open': <built-in function open>, 'copyright': Copyright (c) 2001-2022 Python Software Foundation.\n",
      "All Rights Reserved.\n",
      "\n",
      "Copyright (c) 2000 BeOpen.com.\n",
      "All Rights Reserved.\n",
      "\n",
      "Copyright (c) 1995-2001 Corporation for National Research Initiatives.\n",
      "All Rights Reserved.\n",
      "\n",
      "Copyright (c) 1991-1995 Stichting Mathematisch Centrum, Amsterdam.\n",
      "All Rights Reserved., 'credits':     Thanks to CWI, CNRI, BeOpen.com, Zope Corporation and a cast of thousands\n",
      "    for supporting Python development.  See www.python.org for more information., 'license': Type license() to see the full license text, 'help': Type help() for interactive help, or help(object) for help about object., 'execfile': <function execfile at 0x000002A6DB3A9090>, 'runfile': <function runfile at 0x000002A6DB457BE0>, '__IPYTHON__': True, 'display': <function display at 0x000002A6D9B8A830>, 'get_ipython': <bound method InteractiveShell.get_ipython of <ipykernel.zmqshell.ZMQInteractiveShell object at 0x000002A6DB758160>>}}\n"
     ]
    }
   ],
   "source": [
    "exec('print(globals())', {'print' : print})"
   ]
  },
  {
   "cell_type": "markdown",
   "id": "0a58fc7f",
   "metadata": {},
   "source": [
    "# Write somthing to a file"
   ]
  },
  {
   "cell_type": "code",
   "execution_count": 43,
   "id": "90816b27",
   "metadata": {},
   "outputs": [],
   "source": [
    "tenant_codes = ['1c1', '1c2', '1c3', '1c4', '1c5']\n",
    "tenant_keys = ['0x000002A6DB3A9090', '0x000002A6DB457BE0', '0x000002A6D9B8A830', '0x000002A6DB758160', '0x000002A6DB758160' ]\n"
   ]
  },
  {
   "cell_type": "code",
   "execution_count": 46,
   "id": "77327e7a",
   "metadata": {},
   "outputs": [
    {
     "name": "stdout",
     "output_type": "stream",
     "text": [
      "0\n",
      "1\n",
      "2\n",
      "3\n"
     ]
    }
   ],
   "source": [
    "for i in range(4):\n",
    "    print(i)"
   ]
  },
  {
   "cell_type": "code",
   "execution_count": 48,
   "id": "a1221215",
   "metadata": {},
   "outputs": [],
   "source": [
    "with open(\"tesfile.txt\", \"w\") as f:\n",
    "    for i in range(len(tenant_codes)):\n",
    "        f.write(tenant_codes[i] + \": \" + tenant_keys[i] + \"\\n\")\n"
   ]
  },
  {
   "cell_type": "markdown",
   "id": "79ce1aa1",
   "metadata": {},
   "source": [
    "# Writing encrypted keys to file"
   ]
  },
  {
   "cell_type": "code",
   "execution_count": 49,
   "id": "ef273a35",
   "metadata": {},
   "outputs": [],
   "source": [
    "from cryptography.fernet import Fernet"
   ]
  },
  {
   "cell_type": "code",
   "execution_count": 50,
   "id": "84351f0f",
   "metadata": {},
   "outputs": [
    {
     "name": "stdout",
     "output_type": "stream",
     "text": [
      "b'cIloqGZryQK2qxrI9Mq7gFzGOoZZ2bMyoeiERfWA4E8='\n"
     ]
    }
   ],
   "source": [
    "key = Fernet.generate_key()\n",
    "print(key)"
   ]
  },
  {
   "cell_type": "code",
   "execution_count": 51,
   "id": "1ceadf41",
   "metadata": {},
   "outputs": [],
   "source": [
    "fernet = Fernet(key)"
   ]
  },
  {
   "cell_type": "code",
   "execution_count": 61,
   "id": "97123ecb",
   "metadata": {},
   "outputs": [
    {
     "name": "stdout",
     "output_type": "stream",
     "text": [
      "b'gAAAAABi7_XIdGycOEkBqG8T1CBrnMSdYr4Uvj7-dYBJ_o1S33-9Gk8mDjY3SWI0jdgd62qU0F_IVLiPv9ijyqfB4sAGhO4WVsc1HAYa7lqSva6MMjma4n8='\n",
      "b'gAAAAABi7_XIxjMxMuDCh5e7weUTqj9X-BebuD5woONQbKukBAh7FwtmOPwFsh4rPkT5pY63i_MrP0q_ZVU5Yx8NndQjk5xjW9CpDhxZba1ZzPvlwvQiM1w='\n",
      "b'gAAAAABi7_XIUJErSyDtG4sbqqhkKtchHJEts9XGzdaHU6mipr7fDpalYLUIHnIkeSGPTcuSLHojSLVPTJ5bDOUfopyoTOFHX8zGLvzaAt2JGEXTdPqXHG4='\n",
      "b'gAAAAABi7_XIisMX5jkIauoaA_c4IZ-GH8GQ6HFxBc72VR-qCiC1gVjBcPey31iy77P6WQbWAY6Z-nZtNWZXT-vK6rpVYzdmn7FxHM88teomAmUidDXVD5Q='\n",
      "b'gAAAAABi7_XIOlf03_5HKbClvBM_JK1zPxbpGl2JzY3R0OmjBKCRc8vyfm9XOqhTjs1Th_WiL8n-CHLsN2c22OgXxthWBhHlvZbuluOyYV6sg6gJ2HmIizg='\n"
     ]
    }
   ],
   "source": [
    "encrypted_keys = []\n",
    "for key in tenant_keys:\n",
    "    encrypted_key = fernet.encrypt(key.encode())\n",
    "    encrypted_keys.append(encrypted_key)\n",
    "    print(encrypted_keys[-1])\n"
   ]
  },
  {
   "cell_type": "code",
   "execution_count": 53,
   "id": "ba173602",
   "metadata": {},
   "outputs": [],
   "source": [
    "from pprint import pprint"
   ]
  },
  {
   "cell_type": "code",
   "execution_count": 63,
   "id": "037ce70d",
   "metadata": {},
   "outputs": [
    {
     "name": "stdout",
     "output_type": "stream",
     "text": [
      "[b'gAAAAABi7_XIdGycOEkBqG8T1CBrnMSdYr4Uvj7-dYBJ_o1S33-9Gk8mDjY3SWI0jdgd62qU0F_I'\n",
      " b'VLiPv9ijyqfB4sAGhO4WVsc1HAYa7lqSva6MMjma4n8=',\n",
      " b'gAAAAABi7_XIxjMxMuDCh5e7weUTqj9X-BebuD5woONQbKukBAh7FwtmOPwFsh4rPkT5pY63i_Mr'\n",
      " b'P0q_ZVU5Yx8NndQjk5xjW9CpDhxZba1ZzPvlwvQiM1w=',\n",
      " b'gAAAAABi7_XIUJErSyDtG4sbqqhkKtchHJEts9XGzdaHU6mipr7fDpalYLUIHnIkeSGPTcuSLHoj'\n",
      " b'SLVPTJ5bDOUfopyoTOFHX8zGLvzaAt2JGEXTdPqXHG4=',\n",
      " b'gAAAAABi7_XIisMX5jkIauoaA_c4IZ-GH8GQ6HFxBc72VR-qCiC1gVjBcPey31iy77P6WQbWAY6Z'\n",
      " b'-nZtNWZXT-vK6rpVYzdmn7FxHM88teomAmUidDXVD5Q=',\n",
      " b'gAAAAABi7_XIOlf03_5HKbClvBM_JK1zPxbpGl2JzY3R0OmjBKCRc8vyfm9XOqhTjs1Th_WiL8n-'\n",
      " b'CHLsN2c22OgXxthWBhHlvZbuluOyYV6sg6gJ2HmIizg=']\n"
     ]
    }
   ],
   "source": [
    "pprint(encrypted_keys)"
   ]
  },
  {
   "cell_type": "code",
   "execution_count": 55,
   "id": "583a0420",
   "metadata": {},
   "outputs": [
    {
     "data": {
      "text/plain": [
       "5"
      ]
     },
     "execution_count": 55,
     "metadata": {},
     "output_type": "execute_result"
    }
   ],
   "source": [
    "len(encrypted_keys)"
   ]
  },
  {
   "cell_type": "code",
   "execution_count": 67,
   "id": "5a243907",
   "metadata": {},
   "outputs": [],
   "source": [
    "decrypted_keys = []\n",
    "for encrypted_key in encrypted_keys:\n",
    "    decrypted_key = fernet.decrypt(encrypted_key)\n",
    "    decrypted_keys.append(decrypted_key.decode())"
   ]
  },
  {
   "cell_type": "code",
   "execution_count": 68,
   "id": "5c25eebe",
   "metadata": {},
   "outputs": [
    {
     "name": "stdout",
     "output_type": "stream",
     "text": [
      "['0x000002A6DB3A9090',\n",
      " '0x000002A6DB457BE0',\n",
      " '0x000002A6D9B8A830',\n",
      " '0x000002A6DB758160',\n",
      " '0x000002A6DB758160']\n"
     ]
    }
   ],
   "source": [
    "pprint(decrypted_keys)"
   ]
  },
  {
   "cell_type": "code",
   "execution_count": 136,
   "id": "c95a3988",
   "metadata": {},
   "outputs": [],
   "source": [
    "# Takes in a list of strings (api_keys) and a utf-8 string (key)\n",
    "# made from Fernet.generate_key().\n",
    "# Outputs a list of utf-8 encoded string that are encrypted with\n",
    "# the key.\n",
    "def encryptKeys(key, api_keys):\n",
    "    fernet = Fernet(key)\n",
    "    encrypted_keys = []\n",
    "    \n",
    "    for key in api_keys:\n",
    "        encrypted_key = fernet.encrypt(key.encode())\n",
    "        encrypted_keys.append(encrypted_key.decode())\n",
    "        \n",
    "    return encrypted_keys"
   ]
  },
  {
   "cell_type": "code",
   "execution_count": 70,
   "id": "a87a0f1e",
   "metadata": {},
   "outputs": [],
   "source": [
    "def decryptKeys(key, encrypted_keys):\n",
    "    fernet = Fernet(key)\n",
    "    decrypted_keys = []\n",
    "    \n",
    "    for enc_key in encrypted_keys:\n",
    "        dec_key = fernet.decrypt(enc_key.encode())\n",
    "        decrypted_keys.append(dec_key.decode())\n",
    "    \n",
    "    return decrypted_keys"
   ]
  },
  {
   "cell_type": "code",
   "execution_count": 73,
   "id": "1cb62172",
   "metadata": {},
   "outputs": [],
   "source": [
    "from cryptography.hazmat.primitives.kdf.scrypt import Scrypt\n",
    "import base64\n",
    "import getpass"
   ]
  },
  {
   "cell_type": "code",
   "execution_count": 74,
   "id": "2df316f0",
   "metadata": {},
   "outputs": [],
   "source": [
    "import secrets"
   ]
  },
  {
   "cell_type": "code",
   "execution_count": 78,
   "id": "5e489be7",
   "metadata": {},
   "outputs": [
    {
     "name": "stdout",
     "output_type": "stream",
     "text": [
      "OP5FBvLL1_G0cJhuG8bssA\n"
     ]
    }
   ],
   "source": [
    "print(secrets.token_urlsafe(16))"
   ]
  },
  {
   "cell_type": "code",
   "execution_count": 99,
   "id": "d20949c7",
   "metadata": {},
   "outputs": [
    {
     "name": "stdout",
     "output_type": "stream",
     "text": [
      "b\"Z3\\xb4*\\xa3a$3$\\x94\\xc7\\xafFf\\xb5~\\xfd\\x98\\xe4b'\\x11\\x1cp\\xf8\\xad\\x91\\xb5V\\xff\\x93l\"\n"
     ]
    }
   ],
   "source": [
    "salt = secrets.token_bytes(32)\n",
    "print(salt)"
   ]
  },
  {
   "cell_type": "code",
   "execution_count": 102,
   "id": "f8da9a28",
   "metadata": {},
   "outputs": [
    {
     "name": "stdout",
     "output_type": "stream",
     "text": [
      "b'\\xcaL\\x8d\\x8e\\x9a\\xbe\\xe4\\x15\\x8d\\xae3\\xb5\\xf6`\\xd7-\\xb1\\x97\\xf2\\xa8!p\\xe7Cu\\xa3\\x1b\\xf55\\x035\\xb2'\n"
     ]
    }
   ],
   "source": [
    "kdf = Scrypt(salt=salt, length=32, n=2**14, r=8, p=1)\n",
    "key = kdf.derive(\"p@ssW0rd\".encode())\n",
    "print(key)"
   ]
  },
  {
   "cell_type": "code",
   "execution_count": 103,
   "id": "baa08557",
   "metadata": {},
   "outputs": [
    {
     "name": "stdout",
     "output_type": "stream",
     "text": [
      "b'ykyNjpq-5BWNrjO19mDXLbGX8qghcOdDdaMb9TUDNbI='\n"
     ]
    }
   ],
   "source": [
    "print(base64.urlsafe_b64encode(key))"
   ]
  },
  {
   "cell_type": "code",
   "execution_count": 117,
   "id": "ed443f0a",
   "metadata": {},
   "outputs": [],
   "source": [
    "def generateKey(password, salt=None, length=32, salt_length=16, n=2**14):\n",
    "    \n",
    "    if salt == None:\n",
    "        # If no salt was supplied we make the raw salt directly as a\n",
    "        # cryptographically safe string of bytes.\n",
    "        raw_salt = secrets.token_bytes(salt_length)\n",
    "        # Encode the raw salt into base64 string\n",
    "        salt = base64.urlsafe_b64encode(raw_salt).decode()\n",
    "    else:\n",
    "        # Decode the salt string into a string of bytes\n",
    "        raw_salt = base64.urlsafe_b64decode(salt.encode())\n",
    "    \n",
    "    kdf = Scrypt(salt=raw_salt, length=length, n=n, r=8, p=1)\n",
    "    raw_key = kdf.derive(password.encode())\n",
    "    key = base64.urlsafe_b64encode(raw_key)\n",
    "    \n",
    "    return (key, salt)"
   ]
  },
  {
   "cell_type": "code",
   "execution_count": 119,
   "id": "a9f559bd",
   "metadata": {},
   "outputs": [
    {
     "name": "stdout",
     "output_type": "stream",
     "text": [
      "(b'7AS0cwKJC3fu_zfZ96fBTdbZpzEftTY-fk1SVyANeYQ=', 'w22si2TJhC5Rchq4ztBnnw==')\n"
     ]
    }
   ],
   "source": [
    "key, salt = generateKey(\"password\")\n",
    "pprint((key, salt))"
   ]
  },
  {
   "cell_type": "code",
   "execution_count": 120,
   "id": "575a7b45",
   "metadata": {},
   "outputs": [
    {
     "name": "stdout",
     "output_type": "stream",
     "text": [
      "(b'7AS0cwKJC3fu_zfZ96fBTdbZpzEftTY-fk1SVyANeYQ=', 'w22si2TJhC5Rchq4ztBnnw==')\n"
     ]
    }
   ],
   "source": [
    "print(generateKey(\"password\", salt=salt))"
   ]
  },
  {
   "cell_type": "code",
   "execution_count": 123,
   "id": "038e8d2c",
   "metadata": {},
   "outputs": [
    {
     "data": {
      "text/plain": [
       "32"
      ]
     },
     "execution_count": 123,
     "metadata": {},
     "output_type": "execute_result"
    }
   ],
   "source": [
    "raw_salt = secrets.token_bytes(32)\n",
    "len(raw_salt)"
   ]
  },
  {
   "cell_type": "code",
   "execution_count": 112,
   "id": "069af0f3",
   "metadata": {},
   "outputs": [
    {
     "name": "stdout",
     "output_type": "stream",
     "text": [
      "WjO0KqNhJDMklMevRma1fv2Y5GInERxw-K2RtVb_k2w=\n"
     ]
    }
   ],
   "source": [
    "salt_b64_string = salt_b64.decode()\n",
    "print(salt_b64_string)"
   ]
  },
  {
   "cell_type": "code",
   "execution_count": 114,
   "id": "fe68e985",
   "metadata": {},
   "outputs": [
    {
     "name": "stdout",
     "output_type": "stream",
     "text": [
      "b\"Z3\\xb4*\\xa3a$3$\\x94\\xc7\\xafFf\\xb5~\\xfd\\x98\\xe4b'\\x11\\x1cp\\xf8\\xad\\x91\\xb5V\\xff\\x93l\"\n"
     ]
    }
   ],
   "source": [
    "print(base64.urlsafe_b64decode(salt_b64_string.encode()))"
   ]
  },
  {
   "cell_type": "markdown",
   "id": "74935a68",
   "metadata": {},
   "source": [
    "## Finally ready to get password\n",
    "We assume here that we have the lists tenant_codes and api_keys"
   ]
  },
  {
   "cell_type": "code",
   "execution_count": 124,
   "id": "bf16c598",
   "metadata": {},
   "outputs": [
    {
     "name": "stdout",
     "output_type": "stream",
     "text": [
      "Enter password for encrypting keys: ········\n"
     ]
    }
   ],
   "source": [
    "password = getpass.getpass(\"Enter password for encrypting keys: \")"
   ]
  },
  {
   "cell_type": "code",
   "execution_count": 128,
   "id": "4ed28c85",
   "metadata": {},
   "outputs": [
    {
     "name": "stdout",
     "output_type": "stream",
     "text": [
      "['1c1', '1c2', '1c3', '1c4', '1c5']\n",
      "['0x000002A6DB3A9090',\n",
      " '0x000002A6DB457BE0',\n",
      " '0x000002A6D9B8A830',\n",
      " '0x000002A6DB758160',\n",
      " '0x000002A6DB758160']\n"
     ]
    }
   ],
   "source": [
    "pprint(tenant_codes)\n",
    "api_keys = tenant_keys\n",
    "pprint(api_keys)"
   ]
  },
  {
   "cell_type": "code",
   "execution_count": 139,
   "id": "f24e5133",
   "metadata": {},
   "outputs": [],
   "source": [
    "def saveKeys(tenant_codes, api_keys, filename=\"encrypted_keys.txt\"):\n",
    "    \n",
    "    password = getpass.getpass(\"Enter password for encrypting keys: \")\n",
    "    key, salt = generateKey(password)\n",
    "    \n",
    "    encrypted_keys = encryptKeys(key, api_keys)\n",
    "    \n",
    "    num_keys = len(api_keys)\n",
    "    with open(filename, \"w\") as file:\n",
    "        file.write(salt + \"\\n\")\n",
    "        for i in range(num_keys):\n",
    "            file.write(tenant_codes[i] + \", \" + encrypted_keys[i] + \"\\n\")\n",
    "        "
   ]
  },
  {
   "cell_type": "code",
   "execution_count": 140,
   "id": "21d53ca8",
   "metadata": {},
   "outputs": [
    {
     "name": "stdout",
     "output_type": "stream",
     "text": [
      "Enter password for encrypting keys: ········\n"
     ]
    }
   ],
   "source": [
    "saveKeys(tenant_codes, api_keys)"
   ]
  },
  {
   "cell_type": "markdown",
   "id": "f2578b09",
   "metadata": {},
   "source": [
    "# Load encrypted keys from file"
   ]
  },
  {
   "cell_type": "code",
   "execution_count": null,
   "id": "12f7eb99",
   "metadata": {},
   "outputs": [],
   "source": []
  }
 ],
 "metadata": {
  "kernelspec": {
   "display_name": "Python 3 (ipykernel)",
   "language": "python",
   "name": "python3"
  },
  "language_info": {
   "codemirror_mode": {
    "name": "ipython",
    "version": 3
   },
   "file_extension": ".py",
   "mimetype": "text/x-python",
   "name": "python",
   "nbconvert_exporter": "python",
   "pygments_lexer": "ipython3",
   "version": "3.10.5"
  }
 },
 "nbformat": 4,
 "nbformat_minor": 5
}
